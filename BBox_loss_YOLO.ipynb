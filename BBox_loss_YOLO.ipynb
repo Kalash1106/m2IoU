{
  "cells": [
    {
      "cell_type": "markdown",
      "metadata": {
        "id": "_sFs8N4MvEHN"
      },
      "source": [
        "#Bounding Box Simulations"
      ]
    },
    {
      "cell_type": "code",
      "execution_count": 1,
      "metadata": {
        "id": "LzAT0yO0AkwW"
      },
      "outputs": [],
      "source": [
        "import math\n",
        "import torch\n",
        "import matplotlib.pyplot as plt"
      ]
    },
    {
      "cell_type": "code",
      "execution_count": 2,
      "metadata": {
        "id": "yDVi3atsqBVS"
      },
      "outputs": [],
      "source": [
        "#Params\n",
        "class params:\n",
        "  def __init__(self):\n",
        "    self.eta = 1 #Learning rate\n",
        "    self.num_iters = 100\n",
        "    self.ground_truth = [1., 1., 5., 4.] #Aspect Ratio 4:3\n",
        "    self.start_point = [2., 4., 7., 10.]"
      ]
    },
    {
      "cell_type": "code",
      "execution_count": 3,
      "metadata": {
        "id": "nnYgwN8s7O8a"
      },
      "outputs": [],
      "source": [
        "def bbox_iou(box1, box2, xywh=False, GIoU=False, DIoU=False, CIoU=False, m2IoU = False, alpha = 0.25, eps=1e-7):\n",
        "    \"\"\"\n",
        "    Calculate Intersection over Union (IoU) of box1(1, 4) to box2(n, 4).\n",
        "\n",
        "    Args:\n",
        "        box1 (torch.Tensor): A tensor representing a single bounding box with shape (1, 4).\n",
        "        box2 (torch.Tensor): A tensor representing n bounding boxes with shape (n, 4).\n",
        "        xywh (bool, optional): If True, input boxes are in (x, y, w, h) format. If False, input boxes are in\n",
        "                               (x1, y1, x2, y2) format\n",
        "        GIoU (bool, optional): If True, calculate Generalized IoU. Defaults to False.\n",
        "        DIoU (bool, optional): If True, calculate Distance IoU. Defaults to False.\n",
        "        CIoU (bool, optional): If True, calculate Complete IoU. Defaults to False.\n",
        "        m2IoU (bool, optional): If True, calculate min max IoU. Defaults to False.\n",
        "        eps (float, optional): A small value to avoid division by zero. Defaults to 1e-7.\n",
        "\n",
        "    Returns:\n",
        "        (torch.Tensor): IoU, GIoU, DIoU, CIoU or m2IoU values depending on the specified flags.\n",
        "    \"\"\"\n",
        "\n",
        "    # Get the coordinates of bounding boxes\n",
        "\n",
        "    if xywh:  # transform from xywh to xyxy\n",
        "        (x1, y1, w1, h1), (x2, y2, w2, h2) = box1.chunk(4, -1), box2.chunk(4, -1)\n",
        "        w1_, h1_, w2_, h2_ = w1 / 2, h1 / 2, w2 / 2, h2 / 2\n",
        "        b1_x1, b1_x2, b1_y1, b1_y2 = x1 - w1_, x1 + w1_, y1 - h1_, y1 + h1_\n",
        "        b2_x1, b2_x2, b2_y1, b2_y2 = x2 - w2_, x2 + w2_, y2 - h2_, y2 + h2_\n",
        "    else:  # x1, y1, x2, y2 = box1\n",
        "        b1_x1, b1_y1, b1_x2, b1_y2 = box1.chunk(4, -1)\n",
        "        b2_x1, b2_y1, b2_x2, b2_y2 = box2.chunk(4, -1)\n",
        "        w1, h1 = b1_x2 - b1_x1, b1_y2 - b1_y1 + eps\n",
        "        w2, h2 = b2_x2 - b2_x1, b2_y2 - b2_y1 + eps\n",
        "\n",
        "    # Intersection area\n",
        "    inter = (b1_x2.minimum(b2_x2) - b1_x1.maximum(b2_x1)).clamp_(0) * \\\n",
        "            (b1_y2.minimum(b2_y2) - b1_y1.maximum(b2_y1)).clamp_(0)\n",
        "\n",
        "    # Union Area\n",
        "    union = w1 * h1 + w2 * h2 - inter + eps\n",
        "\n",
        "    # IoU\n",
        "    iou = inter / union\n",
        "\n",
        "    if CIoU or DIoU or GIoU or m2IoU:\n",
        "        cw = b1_x2.maximum(b2_x2) - b1_x1.minimum(b2_x1)  # convex (smallest enclosing box) width\n",
        "        ch = b1_y2.maximum(b2_y2) - b1_y1.minimum(b2_y1)  # convex height\n",
        "\n",
        "        if CIoU or DIoU or m2IoU:  # Distance or Complete IoU https://arxiv.org/abs/1911.08287v1\n",
        "            c2 = cw ** 2 + ch ** 2 + eps  # convex diagonal squared\n",
        "            rho2 = ((b2_x1 + b2_x2 - b1_x1 - b1_x2) ** 2 + (b2_y1 + b2_y2 - b1_y1 - b1_y2) ** 2) / 4  # center dist ** 2\n",
        "\n",
        "            if m2IoU:\n",
        "              d1_sqrd = (b1_x1 - b2_x1)**2 + (b1_y1 - b2_y1)**2\n",
        "              d2_sqrd = (b1_x2 - b2_x2)**2 + (b1_y2 - b2_y2)**2\n",
        "              d_min = d1_sqrd.minimum(d2_sqrd)\n",
        "              d_max = d1_sqrd.maximum(d2_sqrd)\n",
        "\n",
        "              m2_coeff = (alpha*d_min + (1-alpha)*d_max)/c2\n",
        "              return 1 - iou + m2_coeff # m2IOU\n",
        "\n",
        "            if CIoU:  # https://github.com/Zzh-tju/DIoU-SSD-pytorch/blob/master/utils/box/box_utils.py#L47\n",
        "                v = (4 / math.pi ** 2) * (torch.atan(w2 / h2) - torch.atan(w1 / h1)).pow(2)\n",
        "                with torch.no_grad():\n",
        "                    alpha = v / (v - iou + (1 + eps))\n",
        "                return 1 - iou + (rho2 / c2 + v * alpha)  # CIoU\n",
        "            return 1 - iou + rho2 / c2  # DIoU\n",
        "        c_area = cw * ch + eps  # convex area\n",
        "        return 1 - iou + (c_area - union) / c_area  # GIoU https://arxiv.org/pdf/1902.09630.pdf\n",
        "    return 1 - iou  # IoU"
      ]
    },
    {
      "cell_type": "code",
      "execution_count": 4,
      "metadata": {
        "id": "GhynEDvVpqMQ"
      },
      "outputs": [],
      "source": [
        "def derivative_IoU(box1, box2, xywh=False, GIoU=False, DIoU=False, CIoU=False, m2IoU = False, alpha = 0.25, eps=1e-7):\n",
        "  dx = .1\n",
        "  dy = 4/3 * dx #Aspect Ratio of the ground truth\n",
        "  change = box2.detach().clone()\n",
        "\n",
        "  #x1\n",
        "  change[0] += dx\n",
        "  dL_dx1 = (bbox_iou(box1, change, xywh, GIoU, DIoU, CIoU, m2IoU, alpha) - bbox_iou(box1, box2, xywh, GIoU, DIoU, CIoU, m2IoU, alpha))/dx\n",
        "  change[0] -= dx\n",
        "\n",
        "  #y1\n",
        "  change[1] += dy\n",
        "  dL_dy1 = (bbox_iou(box1, change, xywh, GIoU, DIoU, CIoU, m2IoU, alpha) - bbox_iou(box1, box2, xywh, GIoU, DIoU, CIoU, m2IoU, alpha))/dx\n",
        "  change[1] -= dy\n",
        "\n",
        "  #x2\n",
        "  change[2] += dx\n",
        "  dL_dx2 = (bbox_iou(box1, change, xywh, GIoU, DIoU, CIoU, m2IoU, alpha) - bbox_iou(box1, box2, xywh, GIoU, DIoU, CIoU, m2IoU, alpha))/dx\n",
        "  change[2] -= dx\n",
        "\n",
        "  #y2\n",
        "  change[3] += dy\n",
        "  dL_dy2 = (bbox_iou(box1, change, xywh, GIoU, DIoU, CIoU, m2IoU, alpha) - bbox_iou(box1, box2, xywh, GIoU, DIoU, CIoU, m2IoU, alpha))/dx\n",
        "  change[3] -= dy\n",
        "\n",
        "  return torch.tensor([dL_dx1, dL_dy1, dL_dx2, dL_dy2]).float()\n"
      ]
    },
    {
      "cell_type": "code",
      "execution_count": 5,
      "metadata": {
        "id": "ya6nB1eFFjC7"
      },
      "outputs": [],
      "source": [
        "def iou(box1, box2, xywh=False, eps=1e-7):\n",
        "\n",
        "    # Get the coordinates of bounding boxes\n",
        "    if xywh:  # transform from xywh to xyxy\n",
        "        (x1, y1, w1, h1), (x2, y2, w2, h2) = box1.chunk(4, -1), box2.chunk(4, -1)\n",
        "        w1_, h1_, w2_, h2_ = w1 / 2, h1 / 2, w2 / 2, h2 / 2\n",
        "        b1_x1, b1_x2, b1_y1, b1_y2 = x1 - w1_, x1 + w1_, y1 - h1_, y1 + h1_\n",
        "        b2_x1, b2_x2, b2_y1, b2_y2 = x2 - w2_, x2 + w2_, y2 - h2_, y2 + h2_\n",
        "    else:  # x1, y1, x2, y2 = box1\n",
        "        b1_x1, b1_y1, b1_x2, b1_y2 = box1.chunk(4, -1)\n",
        "        b2_x1, b2_y1, b2_x2, b2_y2 = box2.chunk(4, -1)\n",
        "        w1, h1 = b1_x2 - b1_x1, b1_y2 - b1_y1 + eps\n",
        "        w2, h2 = b2_x2 - b2_x1, b2_y2 - b2_y1 + eps\n",
        "\n",
        "    # Intersection area\n",
        "    inter = (b1_x2.minimum(b2_x2) - b1_x1.maximum(b2_x1)).clamp_(0) * \\\n",
        "            (b1_y2.minimum(b2_y2) - b1_y1.maximum(b2_y1)).clamp_(0)\n",
        "\n",
        "    # Union Area\n",
        "    union = w1 * h1 + w2 * h2 - inter + eps\n",
        "\n",
        "    # IoU\n",
        "    iou = inter / union\n",
        "    return iou"
      ]
    },
    {
      "cell_type": "code",
      "execution_count": 6,
      "metadata": {
        "id": "AMpV3BxbA4Kj"
      },
      "outputs": [],
      "source": [
        "def trajectory(box1, box2, num_iters, eta, GIoU=False, DIoU=False, CIoU=False, m2IoU = False, alpha = 0.25):\n",
        "  IOU = []\n",
        "  for iterations in range(1, num_iters+1, 1):\n",
        "    iou_val = iou(box1, box2)\n",
        "    IOU.append(iou_val)\n",
        "    dL_dC = derivative_IoU(box1, box2, False, GIoU, DIoU, CIoU, m2IoU, alpha)\n",
        "\n",
        "    if iterations < 50 :\n",
        "      box2 -= eta * dL_dC\n",
        "\n",
        "    elif iterations > 50 and iterations < 120:\n",
        "      box2 -= (eta/5) * dL_dC\n",
        "\n",
        "    elif iterations > 120 :\n",
        "      box2 -= (eta/10) * dL_dC\n",
        "\n",
        "  return IOU"
      ]
    },
    {
      "cell_type": "code",
      "execution_count": 9,
      "metadata": {
        "id": "p2741D8UxI8P"
      },
      "outputs": [],
      "source": [
        "Params = params()\n",
        "loss_funcs = ['IoU', 'GIoU', 'DIoU', 'CIoU', 'm2IoU']\n",
        "trajectory_dict = {}"
      ]
    },
    {
      "cell_type": "code",
      "execution_count": 11,
      "metadata": {
        "id": "a4w9fSbMqBVS"
      },
      "outputs": [],
      "source": [
        "for loss in loss_funcs:\n",
        "  b1 = torch.tensor(Params.ground_truth).float()\n",
        "  b2 = torch.tensor(Params.start_point).float()\n",
        "  if loss == 'IoU':\n",
        "    trajectory_dict['IoU'] = trajectory(b1, b2, Params.num_iters, Params.eta)\n",
        "\n",
        "  elif loss == 'GIoU':\n",
        "    trajectory_dict['GIoU'] = trajectory(b1, b2, Params.num_iters, Params.eta, GIoU = True)\n",
        "\n",
        "  elif loss == 'DIoU':\n",
        "    trajectory_dict['DIoU'] = trajectory(b1, b2, Params.num_iters, Params.eta, DIoU = True)\n",
        "\n",
        "  elif loss == 'CIoU':\n",
        "    trajectory_dict['CIoU'] = trajectory(b1, b2, Params.num_iters, Params.eta, CIoU = True)\n",
        "\n",
        "  elif loss == 'm2IoU':\n",
        "    trajectory_dict['m2IoU'] = trajectory(b1, b2, Params.num_iters, Params.eta, m2IoU = True)\n"
      ]
    },
    {
      "cell_type": "code",
      "execution_count": 12,
      "metadata": {
        "colab": {
          "base_uri": "https://localhost:8080/",
          "height": 544
        },
        "id": "P_dv4DkFseTb",
        "outputId": "d50777e3-cac4-4716-bba1-83b8c091014d"
      },
      "outputs": [
        {
          "name": "stderr",
          "output_type": "stream",
          "text": [
            "/usr/local/lib/python3.10/dist-packages/numpy/core/shape_base.py:65: FutureWarning: The input object of type 'Tensor' is an array-like implementing one of the corresponding protocols (`__array__`, `__array_interface__` or `__array_struct__`); but not a sequence (or 0-D). In the future, this object will be coerced as if it was first converted using `np.array(obj)`. To retain the old behaviour, you have to either modify the type 'Tensor', or assign to an empty array created with `np.empty(correct_shape, dtype=object)`.\n",
            "  ary = asanyarray(ary)\n",
            "/usr/local/lib/python3.10/dist-packages/numpy/core/shape_base.py:65: VisibleDeprecationWarning: Creating an ndarray from ragged nested sequences (which is a list-or-tuple of lists-or-tuples-or ndarrays with different lengths or shapes) is deprecated. If you meant to do this, you must specify 'dtype=object' when creating the ndarray.\n",
            "  ary = asanyarray(ary)\n"
          ]
        },
        {
          "data": {
            "image/png": "[encoded data removed]",
            "text/plain": [
              "<Figure size 640x480 with 1 Axes>"
            ]
          },
          "metadata": {},
          "output_type": "display_data"
        }
      ],
      "source": [
        "#iters\n",
        "iters = list(range(1, Params.num_iters+1, 1))\n",
        "\n",
        "# Create a figure and axis\n",
        "fig, ax = plt.subplots()\n",
        "\n",
        "# Plot\n",
        "ax.plot(iters, trajectory_dict['m2IoU'], label='m2IoU (\\u03B1 = 0.25)')\n",
        "ax.plot(iters, trajectory_dict['CIoU'], label='CIoU')\n",
        "ax.plot(iters, trajectory_dict['DIoU'], label='DIoU')\n",
        "ax.plot(iters, trajectory_dict['GIoU'], label='GIoU')\n",
        "ax.plot(iters, trajectory_dict['IoU'], label='IoU')\n",
        "\n",
        "\n",
        "# Add labels and a legend\n",
        "ax.set_xlabel('Iterations')\n",
        "ax.set_ylabel('IoU')\n",
        "ax.legend()\n",
        "\n",
        "# Show the plot\n",
        "plt.show()\n"
      ]
    },
    {
      "cell_type": "markdown",
      "metadata": {},
      "source": [
        "Box Plots"
      ]
    },
    {
      "cell_type": "code",
      "execution_count": 7,
      "metadata": {},
      "outputs": [],
      "source": [
        "#Case 1, concentric boxes\n",
        "b1 = torch.tensor([0, 0, 10, 10])\n",
        "b2_a = torch.tensor([2.5, 2.5, 7.5, 7.5])\n",
        "\n",
        "#Case 2, one vertex coinciding\n",
        "b2_b = torch.tensor([5, 5, 10, 10])\n",
        "\n",
        "#Case 3 box2 lying outside box1\n",
        "b2_c = torch.tensor([7.5, 7.5, 12.5, 12.5])\n",
        "loss_funcs = ['IoU', 'GIoU', 'DIoU', 'CIoU', 'm2IoU']"
      ]
    },
    {
      "cell_type": "code",
      "execution_count": 15,
      "metadata": {},
      "outputs": [],
      "source": [
        "loss_dict_1 = {}\n",
        "for loss in loss_funcs:\n",
        "  if loss == 'IoU':\n",
        "    b2_a = torch.tensor([2.5, 2.5, 7.5, 7.5])\n",
        "    loss_dict_1 ['IoU'] = bbox_iou(b1, b2_a)\n",
        "\n",
        "  elif loss == 'GIoU':\n",
        "    loss_dict_1 ['GIoU'] = bbox_iou(b1, b2_a, GIoU=True)\n",
        "\n",
        "  elif loss == 'DIoU':\n",
        "    loss_dict_1 ['DIoU'] = bbox_iou(b1, b2_a, DIoU=True)\n",
        "\n",
        "  elif loss == 'CIoU':\n",
        "    loss_dict_1 ['CIoU'] = bbox_iou(b1, b2_a, CIoU=True)\n",
        "\n",
        "  elif loss == 'm2IoU':\n",
        "    loss_dict_1 ['m2IoU'] = bbox_iou(b1, b2_a, m2IoU=True)"
      ]
    },
    {
      "cell_type": "code",
      "execution_count": 16,
      "metadata": {},
      "outputs": [
        {
          "name": "stdout",
          "output_type": "stream",
          "text": [
            "{'IoU': tensor([0.7500]), 'GIoU': tensor([0.7500]), 'DIoU': tensor([0.7500]), 'CIoU': tensor([0.7500]), 'm2IoU': tensor([0.8125])}\n"
          ]
        }
      ],
      "source": [
        "print(loss_dict_1)"
      ]
    },
    {
      "cell_type": "code",
      "execution_count": 17,
      "metadata": {},
      "outputs": [],
      "source": [
        "loss_dict_1 = {}\n",
        "for loss in loss_funcs:\n",
        "  if loss == 'IoU':\n",
        "    b2_a = torch.tensor([5, 5, 10, 10])\n",
        "    loss_dict_1 ['IoU'] = bbox_iou(b1, b2_a)\n",
        "\n",
        "  elif loss == 'GIoU':\n",
        "    loss_dict_1 ['GIoU'] = bbox_iou(b1, b2_a, GIoU=True)\n",
        "\n",
        "  elif loss == 'DIoU':\n",
        "    loss_dict_1 ['DIoU'] = bbox_iou(b1, b2_a, DIoU=True)\n",
        "\n",
        "  elif loss == 'CIoU':\n",
        "    loss_dict_1 ['CIoU'] = bbox_iou(b1, b2_a, CIoU=True)\n",
        "\n",
        "  elif loss == 'm2IoU':\n",
        "    loss_dict_1 ['m2IoU'] = bbox_iou(b1, b2_a, m2IoU=True)"
      ]
    },
    {
      "cell_type": "code",
      "execution_count": 18,
      "metadata": {},
      "outputs": [
        {
          "name": "stdout",
          "output_type": "stream",
          "text": [
            "{'IoU': tensor([0.7500]), 'GIoU': tensor([0.7500]), 'DIoU': tensor([0.8125]), 'CIoU': tensor([0.8125]), 'm2IoU': tensor([0.9375])}\n"
          ]
        }
      ],
      "source": [
        "print(loss_dict_1)"
      ]
    },
    {
      "cell_type": "code",
      "execution_count": 23,
      "metadata": {},
      "outputs": [],
      "source": [
        "loss_dict_1 = {}\n",
        "for loss in loss_funcs:\n",
        "  if loss == 'IoU':\n",
        "    b2_a = torch.tensor([7.5, 7.5, 12.5, 12.5])\n",
        "    loss_dict_1 ['IoU'] = bbox_iou(b1, b2_a)\n",
        "\n",
        "  elif loss == 'GIoU':\n",
        "    loss_dict_1 ['GIoU'] = bbox_iou(b1, b2_a, GIoU=True)\n",
        "\n",
        "  elif loss == 'DIoU':\n",
        "    loss_dict_1 ['DIoU'] = bbox_iou(b1, b2_a, DIoU=True)\n",
        "\n",
        "  elif loss == 'CIoU':\n",
        "    loss_dict_1 ['CIoU'] = bbox_iou(b1, b2_a, CIoU=True)\n",
        "\n",
        "  elif loss == 'm2IoU':\n",
        "    loss_dict_1 ['m2IoU'] = bbox_iou(b1, b2_a, m2IoU=True)"
      ]
    },
    {
      "cell_type": "code",
      "execution_count": 24,
      "metadata": {},
      "outputs": [
        {
          "name": "stdout",
          "output_type": "stream",
          "text": [
            "{'IoU': tensor([0.9474]), 'GIoU': tensor([1.1874]), 'DIoU': tensor([1.1074]), 'CIoU': tensor([1.1074]), 'm2IoU': tensor([1.2274])}\n"
          ]
        }
      ],
      "source": [
        "print(loss_dict_1)"
      ]
    }
  ],
  "metadata": {
    "colab": {
      "collapsed_sections": [
        "ig_c9oPgu959"
      ],
      "provenance": []
    },
    "kernelspec": {
      "display_name": "Python 3",
      "name": "python3"
    },
    "language_info": {
      "codemirror_mode": {
        "name": "ipython",
        "version": 3
      },
      "file_extension": ".py",
      "mimetype": "text/x-python",
      "name": "python",
      "nbconvert_exporter": "python",
      "pygments_lexer": "ipython3",
      "version": "3.10.4"
    }
  },
  "nbformat": 4,
  "nbformat_minor": 0
}
